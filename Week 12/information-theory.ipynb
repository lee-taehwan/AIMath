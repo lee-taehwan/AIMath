{
 "cells": [
  {
   "cell_type": "code",
   "execution_count": 1,
   "metadata": {},
   "outputs": [
    {
     "name": "stdout",
     "output_type": "stream",
     "text": [
      "[4, 14, 3, 3, 2, 0, 0, 4, 5, 4]\n"
     ]
    }
   ],
   "source": [
    "import numpy as np\n",
    "\n",
    "data = '011291831741091812173109418711012918378'\n",
    "counts = [0 for _ in range(10)]\n",
    "for d in data:\n",
    "    counts[int(d)] += 1\n",
    "print(counts)"
   ]
  },
  {
   "cell_type": "code",
   "execution_count": 2,
   "metadata": {},
   "outputs": [
    {
     "name": "stdout",
     "output_type": "stream",
     "text": [
      "[0.10256410256410256, 0.358974358974359, 0.07692307692307693, 0.07692307692307693, 0.05128205128205128, 0.0, 0.0, 0.10256410256410256, 0.1282051282051282, 0.10256410256410256]\n"
     ]
    }
   ],
   "source": [
    "num_total = len(data)\n",
    "probs = [c / float(num_total) for c in counts]\n",
    "print(probs)"
   ]
  },
  {
   "cell_type": "code",
   "execution_count": 3,
   "metadata": {},
   "outputs": [
    {
     "name": "stdout",
     "output_type": "stream",
     "text": [
      "entropy =  2.710457744348857\n"
     ]
    }
   ],
   "source": [
    "entropy = 0\n",
    "eps = 1e-6\n",
    "for p in probs:\n",
    "    entropy += p * (-1) * np.log2(p + eps)\n",
    "print('entropy = ', entropy)"
   ]
  }
 ],
 "metadata": {
  "kernelspec": {
   "display_name": "Python 3",
   "language": "python",
   "name": "python3"
  },
  "language_info": {
   "codemirror_mode": {
    "name": "ipython",
    "version": 3
   },
   "file_extension": ".py",
   "mimetype": "text/x-python",
   "name": "python",
   "nbconvert_exporter": "python",
   "pygments_lexer": "ipython3",
   "version": "3.8.8"
  },
  "orig_nbformat": 4
 },
 "nbformat": 4,
 "nbformat_minor": 2
}
