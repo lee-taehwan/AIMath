{
 "cells": [
  {
   "cell_type": "code",
   "execution_count": null,
   "metadata": {},
   "outputs": [],
   "source": [
    "import torch\n",
    "\n",
    "offset1 = torch.zeros(10, 2)\n",
    "offset1[:, 0] = 3\n",
    "offset2 = torch.zeros(10, 2)\n",
    "offset2[:, 1] = 3\n",
    "x0 = torch.randn(10, 2)\n",
    "x1 = torch.randn(10, 2) + offset1\n",
    "x2 = torch.randn(10, 2) + offset2\n",
    "x_copy = torch.cat([x0, x1, x2])\n",
    "zeros = torch.zeros(10)\n",
    "y = torch.cat([zeros, zeros + 1, zeros + 2]).long()\n",
    "print(x_copy)\n",
    "print(y)"
   ]
  },
  {
   "cell_type": "code",
   "execution_count": null,
   "metadata": {},
   "outputs": [],
   "source": [
    "from matplotlib import pyplot as plt\n",
    "plt.scatter(x0[:, 0], x0[:, 1], c = 'red')\n",
    "plt.scatter(x1[:, 0], x1[:, 1], c = 'blue')\n",
    "plt.scatter(x2[:, 0], x2[:, 1], c = 'magenta')\n",
    "plt.show()"
   ]
  },
  {
   "cell_type": "code",
   "execution_count": null,
   "metadata": {},
   "outputs": [],
   "source": [
    "from torch import nn\n",
    "from tqdm import trange\n",
    "\n",
    "f1 = nn.Linear(2, 3)\n",
    "w1_fixed = torch.randn(3, 2)\n",
    "b1_fixed = torch.randn(3, 1)\n",
    "f1.weight torch.nn.Parameter(w1_fixed.clone())\n",
    "ce = nn.CrossEntropyLoss()\n",
    "optim = torch.optim.Adam(f1.parameters())\n",
    "\n",
    "for _ in trange(1):\n",
    "    y_hat = f1(x_copy[:1])\n",
    "    loss = ce(y_hat, y[:1])\n",
    "    optim.zero_grad()\n",
    "    loss.backward()\n",
    "    optim.step()\n",
    "    print(f1.weight.grad)\n",
    "    print(f1.bias.grad)\n",
    "print(y_hat)"
   ]
  },
  {
   "cell_type": "code",
   "execution_count": null,
   "metadata": {},
   "outputs": [],
   "source": [
    "from torch import nn\n",
    "from tqdm import trange\n",
    "\n",
    "w1 = w1_fixed.clone()\n",
    "b1 = b1_fixed.clone()\n",
    "y_onehot = torch.zeros(y.size(0), 3)\n",
    "y_onehot[torch.arange(y.szie(0)), y] = 1\n",
    "\n",
    "for _ in range(1):\n",
    "    x = x_copy[:1].t()\n",
    "    y_hat = w1.matmul(x) + b1\n",
    "    softmax_y = torch.softmax(y_hat, dim = 0)\n",
    "    dLdy = (softmax_y - y_onehot[:1].t()).t()\n",
    "    dydw1 = torch.cat([x, torch.zeros([6, 1]), x, torch.zeros([6, 1]), x]).reshape(3, 6)\n",
    "    dydb1 = torch.eye(3)\n",
    "    dLdw1 = dLdy.matmul(dydw1).reshape(3, 2)\n",
    "    dLdb1 = dLdy.matmul(dydb1)\n",
    "    print(dLdw1)\n",
    "    print(dLdb1)"
   ]
  }
 ],
 "metadata": {
  "kernelspec": {
   "display_name": "base",
   "language": "python",
   "name": "python3"
  },
  "language_info": {
   "codemirror_mode": {
    "name": "ipython",
    "version": 3
   },
   "file_extension": ".py",
   "mimetype": "text/x-python",
   "name": "python",
   "nbconvert_exporter": "python",
   "pygments_lexer": "ipython3",
   "version": "3.9.12"
  },
  "orig_nbformat": 4
 },
 "nbformat": 4,
 "nbformat_minor": 2
}
