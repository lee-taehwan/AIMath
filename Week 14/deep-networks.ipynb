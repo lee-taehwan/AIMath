{
 "cells": [
  {
   "cell_type": "code",
   "execution_count": 16,
   "metadata": {},
   "outputs": [
    {
     "name": "stderr",
     "output_type": "stream",
     "text": [
      "100%|██████████| 10000/10000 [00:05<00:00, 1981.26it/s]"
     ]
    },
    {
     "name": "stdout",
     "output_type": "stream",
     "text": [
      "\n",
      "tensor([2.3842e-06, 1.0000e+00, 1.0000e+00, 3.3379e-06],\n",
      "       grad_fn=<SqueezeBackward0>)\n",
      "Parameter containing:\n",
      "tensor([[ 5.2901,  5.5986],\n",
      "        [-2.5225, -2.5720]], requires_grad=True)\n",
      "Parameter containing:\n",
      "tensor([-2.2109,  3.4602], requires_grad=True)\n",
      "2.603428583825007e-11\n"
     ]
    },
    {
     "name": "stderr",
     "output_type": "stream",
     "text": [
      "\n"
     ]
    }
   ],
   "source": [
    "import torch\n",
    "from torch import nn\n",
    "from tqdm import trange\n",
    "\n",
    "x = torch.tensor([[0, 0], [0, 1], [1, 0], [1, 1],]).float()\n",
    "y = torch.tensor([0, 1, 1, 0]).float()\n",
    "\n",
    "f1 = nn.Linear(2, 2)\n",
    "act = nn.Sigmoid()\n",
    "f2 = nn.Linear(2, 1)\n",
    "params = list(f1.parameters()) + list(f2.parameters())\n",
    "optim = torch.optim.Adam(params)\n",
    "\n",
    "for _ in trange(10000):\n",
    "    y_hat = f2(act(f1(x))).squeeze()\n",
    "    error = y - y_hat\n",
    "    loss = error.t().dot(error)\n",
    "    optim.zero_grad()\n",
    "    loss.backward()\n",
    "    optim.step()\n",
    "\n",
    "print()\n",
    "print(y_hat)\n",
    "print(f1.weight)\n",
    "print(f1.bias)\n",
    "print(loss.item())\n"
   ]
  }
 ],
 "metadata": {
  "kernelspec": {
   "display_name": "base",
   "language": "python",
   "name": "python3"
  },
  "language_info": {
   "codemirror_mode": {
    "name": "ipython",
    "version": 3
   },
   "file_extension": ".py",
   "mimetype": "text/x-python",
   "name": "python",
   "nbconvert_exporter": "python",
   "pygments_lexer": "ipython3",
   "version": "3.8.8"
  },
  "orig_nbformat": 4
 },
 "nbformat": 4,
 "nbformat_minor": 2
}
